{
 "cells": [
  {
   "cell_type": "code",
   "execution_count": 1,
   "metadata": {},
   "outputs": [
    {
     "data": {
      "image/png": "[encoded data removed]",
      "text/plain": [
       "<matplotlib.figure.Figure at 0x7f9c1356c2e8>"
      ]
     },
     "metadata": {},
     "output_type": "display_data"
    }
   ],
   "source": [
    "# cat neuron_data_display.py\n",
    "# codeing: UTF-8\n",
    "\n",
    "import math\n",
    "import matplotlib.pyplot as plt\n",
    "\n",
    "\n",
    "# シグモイド関数\n",
    "def sigmoid(a):\n",
    "    return 1.0 / (1.0 + math.exp(-a))\n",
    "\n",
    "\n",
    "# ニューロン\n",
    "class Neuron:\n",
    "    input_sum = 0.0\n",
    "    output = 0.0\n",
    "\n",
    "    def setInput(self, inp):\n",
    "        self.input_sum += inp\n",
    "\n",
    "    def getOutput(self):\n",
    "        self.output = sigmoid(self.input_sum)\n",
    "        return self.output\n",
    "    \n",
    "    def reset(self):\n",
    "        self.input_sum = 0\n",
    "        self.output = 0\n",
    "\n",
    "\n",
    "# ニューラルネットワーク\n",
    "class NeuralNetwork:\n",
    "\n",
    "    # 入力の重み\n",
    "    w = [-0.5, 0.5, 0.0]\n",
    "    # ニューロンのインスタンス\n",
    "    neuron = Neuron()\n",
    "    # 実行\n",
    "    def commit(self, input_data):\n",
    "        self.neuron.reset()\n",
    "        \n",
    "        bias = 1.0\n",
    "        self.neuron.setInput(input_data[0] * self.w[0])\n",
    "        self.neuron.setInput(input_data[1] * self.w[1])\n",
    "\n",
    "        self.neuron.setInput(bias * self.w[2])\n",
    "        return self.neuron.getOutput()\n",
    "\n",
    "# 基本点(データの範囲は0, 0-1, 0の範囲に納めるため)\n",
    "refer_point_0 = 34.5\n",
    "refer_point_1 = 137.5\n",
    "\n",
    "\n",
    "trial_data = []\n",
    "trial_data_file = open('trial_data', \"r\")\n",
    "for line in trial_data_file:\n",
    "    line = line.rstrip().split(\",\")\n",
    "    trial_data.append([float(line[0]) - refer_point_0, float(line[1]) - refer_point_1])\n",
    "trial_data_file.close()\n",
    "\n",
    "\n",
    "\n",
    "# ニューラルネットワークのインスタンス\n",
    "neural_network = NeuralNetwork()\n",
    "\n",
    "# 実行\n",
    "position_tokyo = ([],[])\n",
    "position_kanagawa = ([],[])\n",
    "for data in trial_data:\n",
    "    if neural_network.commit(data) < 0.5:\n",
    "        position_tokyo[0].append(data[1] + refer_point_1)\n",
    "        position_tokyo[1].append(data[0] + refer_point_0)\n",
    "    else:\n",
    "        position_kanagawa[0].append(data[1] + refer_point_1)\n",
    "        position_kanagawa[1].append(data[0] + refer_point_0)\n",
    "\n",
    "        \n",
    "\n",
    "\n",
    "plt.scatter(position_tokyo[0], position_tokyo[1], c=\"red\", label=\"Tokyo\", marker=\"+\")\n",
    "plt.scatter(position_kanagawa[0], position_kanagawa[1], c=\"blue\", label=\"Kanagawa\", marker=\"+\")\n",
    "\n",
    "plt.legend()\n",
    "plt.show()\n",
    "\n"
   ]
  },
  {
   "cell_type": "code",
   "execution_count": null,
   "metadata": {
    "collapsed": true
   },
   "outputs": [],
   "source": []
  }
 ],
 "metadata": {
  "kernelspec": {
   "display_name": "Python 3",
   "language": "python",
   "name": "python3"
  },
  "language_info": {
   "codemirror_mode": {
    "name": "ipython",
    "version": 3
   },
   "file_extension": ".py",
   "mimetype": "text/x-python",
   "name": "python",
   "nbconvert_exporter": "python",
   "pygments_lexer": "ipython3",
   "version": "3.6.2"
  }
 },
 "nbformat": 4,
 "nbformat_minor": 2
}
